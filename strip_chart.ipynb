{
 "cells": [
  {
   "cell_type": "code",
   "execution_count": 1,
   "metadata": {
    "collapsed": false
   },
   "outputs": [],
   "source": [
    "%matplotlib inline"
   ]
  },
  {
   "cell_type": "markdown",
   "metadata": {},
   "source": [
    "\n",
    "# Oscilloscope\n",
    "\n",
    "\n",
    "Emulates an oscilloscope.\n",
    "\n"
   ]
  },
  {
   "cell_type": "code",
   "execution_count": 2,
   "metadata": {
    "collapsed": false
   },
   "outputs": [
    {
     "data": {
      "image/png": "[encoded data removed]",
      "text/plain": [
       "<Figure size 432x288 with 1 Axes>"
      ]
     },
     "metadata": {},
     "output_type": "display_data"
    }
   ],
   "source": [
    "import numpy as np\n",
    "from matplotlib.lines import Line2D\n",
    "import matplotlib.pyplot as plt\n",
    "import matplotlib.animation as animation\n",
    "\n",
    "\n",
    "class Scope(object):\n",
    "    def __init__(self, ax, maxt=2, dt=0.02):\n",
    "        self.ax = ax\n",
    "        self.dt = dt\n",
    "        self.maxt = maxt\n",
    "        self.tdata = [0]\n",
    "        self.ydata = [0]\n",
    "        self.line = Line2D(self.tdata, self.ydata)\n",
    "        self.ax.add_line(self.line)\n",
    "        self.ax.set_ylim(-.1, 1.1)\n",
    "        self.ax.set_xlim(0, self.maxt)\n",
    "\n",
    "    def update(self, y):\n",
    "        lastt = self.tdata[-1]\n",
    "        if lastt > self.tdata[0] + self.maxt:  # reset the arrays\n",
    "            self.tdata = [self.tdata[-1]]\n",
    "            self.ydata = [self.ydata[-1]]\n",
    "            self.ax.set_xlim(self.tdata[0], self.tdata[0] + self.maxt)\n",
    "            self.ax.figure.canvas.draw()\n",
    "\n",
    "        t = self.tdata[-1] + self.dt\n",
    "        self.tdata.append(t)\n",
    "        self.ydata.append(y)\n",
    "        self.line.set_data(self.tdata, self.ydata)\n",
    "        return self.line,\n",
    "\n",
    "\n",
    "def emitter(p=0.03):\n",
    "    'return a random value with probability p, else 0'\n",
    "    while True:\n",
    "        v = np.random.rand(1)\n",
    "        if v > p:\n",
    "            yield 0.\n",
    "        else:\n",
    "            yield np.random.rand(1)\n",
    "\n",
    "# Fixing random state for reproducibility\n",
    "np.random.seed(19680801)\n",
    "\n",
    "\n",
    "fig, ax = plt.subplots()\n",
    "scope = Scope(ax)\n",
    "\n",
    "# pass a generator in \"emitter\" to produce data for the update func\n",
    "ani = animation.FuncAnimation(fig, scope.update, emitter, interval=10,\n",
    "                              blit=True)\n",
    "\n",
    "plt.show()"
   ]
  },
  {
   "cell_type": "code",
   "execution_count": null,
   "metadata": {},
   "outputs": [],
   "source": []
  }
 ],
 "metadata": {
  "kernelspec": {
   "display_name": "Python 3",
   "language": "python",
   "name": "python3"
  },
  "language_info": {
   "codemirror_mode": {
    "name": "ipython",
    "version": 3
   },
   "file_extension": ".py",
   "mimetype": "text/x-python",
   "name": "python",
   "nbconvert_exporter": "python",
   "pygments_lexer": "ipython3",
   "version": "3.6.5"
  }
 },
 "nbformat": 4,
 "nbformat_minor": 2
}
