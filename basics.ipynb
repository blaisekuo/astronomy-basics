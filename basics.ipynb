{
 "cells": [
  {
   "cell_type": "code",
   "execution_count": 8,
   "metadata": {},
   "outputs": [],
   "source": [
    "import numpy as np\n",
    "import matplotlib.pyplot as plt\n",
    "import matplotlib.animation as animation"
   ]
  },
  {
   "cell_type": "code",
   "execution_count": 12,
   "metadata": {},
   "outputs": [
    {
     "data": {
      "image/png": "[encoded data removed]",
      "text/plain": [
       "<matplotlib.figure.Figure at 0x1d653df7f28>"
      ]
     },
     "metadata": {},
     "output_type": "display_data"
    }
   ],
   "source": [
    "X = np.linspace(0, 2*np.pi, 100)\n",
    "Y = np.sin(X)\n",
    "\n",
    "fig, ax = plt.subplots(1,1)\n",
    "ax.set_xlim([0, 2*np.pi])\n",
    "ax.set_ylim([-1.1, 1.1])\n",
    "\n",
    "sinegraph, = ax.plot([], [])\n",
    "dot, = ax.plot([], [], 'o', color='red')\n",
    "\n",
    "def sine(i):\n",
    "    sinegraph.set_data(X[:i],Y[:i])\n",
    "    dot.set_data(X[i],Y[i])\n",
    "\n",
    "anim = animation.FuncAnimation(fig, sine, frames=len(X), interval=50)\n",
    "plt.show()"
   ]
  },
  {
   "cell_type": "code",
   "execution_count": null,
   "metadata": {},
   "outputs": [],
   "source": []
  },
  {
   "cell_type": "code",
   "execution_count": null,
   "metadata": {},
   "outputs": [],
   "source": []
  }
 ],
 "metadata": {
  "kernelspec": {
   "display_name": "Python 3",
   "language": "python",
   "name": "python3"
  },
  "language_info": {
   "codemirror_mode": {
    "name": "ipython",
    "version": 3
   },
   "file_extension": ".py",
   "mimetype": "text/x-python",
   "name": "python",
   "nbconvert_exporter": "python",
   "pygments_lexer": "ipython3",
   "version": "3.6.4"
  }
 },
 "nbformat": 4,
 "nbformat_minor": 2
}
